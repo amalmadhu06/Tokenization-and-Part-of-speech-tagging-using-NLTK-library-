{
 "cells": [
  {
   "cell_type": "markdown",
   "metadata": {},
   "source": [
    "# Tokenization and Part of Speech Tagging Using NLTK Library "
   ]
  },
  {
   "cell_type": "markdown",
   "metadata": {},
   "source": [
    "\n",
    "\n",
    "\n",
    "## 1. Tokenization Using NLTK"
   ]
  },
  {
   "cell_type": "code",
   "execution_count": 35,
   "metadata": {},
   "outputs": [],
   "source": [
    "# importing the nltk library \n",
    "\n",
    "import nltk"
   ]
  },
  {
   "cell_type": "code",
   "execution_count": 19,
   "metadata": {},
   "outputs": [],
   "source": [
    "# creating a sentence \n",
    "\n",
    "sentence1 = \"Here we are trying to do tokenization using nltk library. Lets add some $ symbols also \""
   ]
  },
  {
   "cell_type": "code",
   "execution_count": 20,
   "metadata": {},
   "outputs": [
    {
     "name": "stdout",
     "output_type": "stream",
     "text": [
      "Tokens :  ['Here', 'we', 'are', 'trying', 'to', 'do', 'tokenization', 'using', 'nltk', 'library', '.', 'Lets', 'add', 'some', '$', 'symbols', 'also']\n"
     ]
    }
   ],
   "source": [
    "# creating tokens using library \n",
    "\n",
    "tokens = nltk.word_tokenize(sentence1)\n",
    "\n",
    "#printing the tokens \n",
    "\n",
    "print(\"Tokens : \", tokens)"
   ]
  },
  {
   "cell_type": "code",
   "execution_count": null,
   "metadata": {},
   "outputs": [],
   "source": [
    "# It has considered . $ and symbols as a tokens\n",
    "\n",
    "# We have tokenized the sentences now. Lets try part of speech tagging now..."
   ]
  },
  {
   "cell_type": "markdown",
   "metadata": {},
   "source": [
    "## 2. Part of speech tagging using NLTK"
   ]
  },
  {
   "cell_type": "code",
   "execution_count": 30,
   "metadata": {},
   "outputs": [],
   "source": [
    "# We have already imported the nltk library. "
   ]
  },
  {
   "cell_type": "code",
   "execution_count": 31,
   "metadata": {},
   "outputs": [],
   "source": [
    "#creating a sentence \n",
    "\n",
    "sentence2 = \"Here we are trying to do tokenization using nltk library. Lets add some $ symbols also \"\n",
    "\n",
    "# We have used the same sentence to see the change "
   ]
  },
  {
   "cell_type": "code",
   "execution_count": 32,
   "metadata": {},
   "outputs": [
    {
     "name": "stdout",
     "output_type": "stream",
     "text": [
      "Part of speech : [('Here', 'RB'), ('we', 'PRP'), ('are', 'VBP'), ('trying', 'VBG'), ('to', 'TO'), ('do', 'VB'), ('tokenization', 'NN'), ('using', 'VBG'), ('nltk', 'JJ'), ('library', 'NN'), ('.', '.'), ('Lets', 'NNP'), ('add', 'VBD'), ('some', 'DT'), ('$', '$'), ('symbols', 'NNS'), ('also', 'RB')]\n"
     ]
    }
   ],
   "source": [
    "#creating tokens using library \n",
    "\n",
    "tokens = nltk.word_tokenize(sentence2)\n",
    "\n",
    "#printing the tokens by part of speech tagging \n",
    "\n",
    "print(\"Part of speech :\", nltk.pos_tag(tokens))"
   ]
  }
 ],
 "metadata": {
  "kernelspec": {
   "display_name": "Python 3",
   "language": "python",
   "name": "python3"
  },
  "language_info": {
   "codemirror_mode": {
    "name": "ipython",
    "version": 3
   },
   "file_extension": ".py",
   "mimetype": "text/x-python",
   "name": "python",
   "nbconvert_exporter": "python",
   "pygments_lexer": "ipython3",
   "version": "3.7.4"
  }
 },
 "nbformat": 4,
 "nbformat_minor": 2
}
